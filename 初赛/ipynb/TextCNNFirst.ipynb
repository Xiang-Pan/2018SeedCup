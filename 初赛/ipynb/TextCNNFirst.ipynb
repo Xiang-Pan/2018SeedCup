{
 "cells": [
  {
   "cell_type": "code",
   "execution_count": 1,
   "metadata": {},
   "outputs": [
    {
     "name": "stderr",
     "output_type": "stream",
     "text": [
      "C:\\Users\\28529\\Anaconda3\\lib\\site-packages\\h5py\\__init__.py:36: FutureWarning: Conversion of the second argument of issubdtype from `float` to `np.floating` is deprecated. In future, it will be treated as `np.float64 == np.dtype(float).type`.\n",
      "  from ._conv import register_converters as _register_converters\n",
      "Using TensorFlow backend.\n"
     ]
    }
   ],
   "source": [
    "from keras.preprocessing.sequence import pad_sequences\n",
    "from keras.preprocessing.text import Tokenizer\n",
    "from keras.layers.merge import concatenate\n",
    "from keras.models import Sequential, Model\n",
    "from keras.layers import Dense, Embedding, Activation, merge, Input, Lambda, Reshape\n",
    "from keras.layers import Convolution1D, Flatten, Dropout, MaxPool1D, GlobalAveragePooling1D\n",
    "from keras.layers import LSTM, GRU, TimeDistributed, Bidirectional\n",
    "from keras.utils.np_utils import to_categorical\n",
    "from keras import initializers\n",
    "from keras import backend as K\n",
    "from keras.engine.topology import Layer\n",
    "from sklearn.naive_bayes import MultinomialNB\n",
    "from sklearn.linear_model import SGDClassifier\n",
    "from sklearn.feature_extraction.text import TfidfVectorizer\n",
    "import pandas as pd\n",
    "import numpy as np\n",
    "import sklearn\n",
    "\n",
    "#X_train, X_test, y_train, y_test = train_test_split(title, label, test_size=0.1, random_state=42)"
   ]
  },
  {
   "cell_type": "code",
   "execution_count": 2,
   "metadata": {},
   "outputs": [],
   "source": [
    "def getOnePredict(source):\n",
    "    result = []\n",
    "    for i in source:\n",
    "        result_item = np.zeros(i.size)\n",
    "        result_item[i.argmax()] = 1\n",
    "        result.append(result_item)\n",
    "    return np.array(result)"
   ]
  },
  {
   "cell_type": "code",
   "execution_count": 3,
   "metadata": {},
   "outputs": [],
   "source": [
    "def onehot2index(source):\n",
    "    result = np.zeros(source.shape[0])\n",
    "    for i in range(source.shape[0]):\n",
    "        result[i] = source[i].argmax()\n",
    "    return result"
   ]
  },
  {
   "cell_type": "code",
   "execution_count": 15,
   "metadata": {},
   "outputs": [],
   "source": [
    "from keras import backend as K\n",
    "\n",
    "def f1(y_true, y_pred):\n",
    "    def recall(y_true, y_pred):\n",
    "        \"\"\"Recall metric.\n",
    "\n",
    "        Only computes a batch-wise average of recall.\n",
    "\n",
    "        Computes the recall, a metric for multi-label classification of\n",
    "        how many relevant items are selected.\n",
    "        \"\"\"\n",
    "        true_positives = K.sum(K.round(K.clip(y_true * y_pred, 0, 1)))\n",
    "        possible_positives = K.sum(K.round(K.clip(y_true, 0, 1)))\n",
    "        recall = true_positives / (possible_positives + K.epsilon())\n",
    "        return recall\n",
    "\n",
    "    def precision(y_true, y_pred):\n",
    "        \"\"\"Precision metric.\n",
    "\n",
    "        Only computes a batch-wise average of precision.\n",
    "\n",
    "        Computes the precision, a metric for multi-label classification of\n",
    "        how many selected items are relevant.\n",
    "        \"\"\"\n",
    "        true_positives = K.sum(K.round(K.clip(y_true * y_pred, 0, 1)))\n",
    "        predicted_positives = K.sum(K.round(K.clip(y_pred, 0, 1)))\n",
    "        precision = true_positives / (predicted_positives + K.epsilon())\n",
    "        return precision\n",
    "    precision = precision(y_true, y_pred)\n",
    "    recall = recall(y_true, y_pred)\n",
    "    return 2*((precision*recall)/(precision+recall+K.epsilon()))"
   ]
  },
  {
   "cell_type": "code",
   "execution_count": 7,
   "metadata": {},
   "outputs": [],
   "source": [
    "#get word level data\n",
    "def getData():\n",
    "    label = []\n",
    "    data = []\n",
    "    with open('train_a_c.txt') as f:\n",
    "        isFirst = True\n",
    "        count = 1\n",
    "        while True:\n",
    "            line = f.readline()\n",
    "\n",
    "            if isFirst:\n",
    "                isFirst = False\n",
    "                continue            \n",
    "\n",
    "            if not line:\n",
    "                break\n",
    "\n",
    "            l = line.split('\\t')\n",
    "\n",
    "            label.append(int(l[5]))\n",
    "            title = l[2].split(',')#e.g. ['w12','w23']\n",
    "            content = l[4].split(',')\n",
    "            new_result = np.zeros(187)\n",
    "            \n",
    "            #format to delete 'w'\n",
    "            for i in range(len(title)):\n",
    "                new_result[i] = title[i][1:]\n",
    "\n",
    "            for i in range(len(title),len(content)+len(title)):\n",
    "                new_result[i] = content[i-len(title)][1:]\n",
    "            \n",
    "            \n",
    "            \n",
    "            data.append(new_result)\n",
    "            if count%10000 == 0:\n",
    "                print(count)\n",
    "            count+=1\n",
    "    \n",
    "    from sklearn.preprocessing import OneHotEncoder\n",
    "    train_label = np.array(label)\n",
    "    ohe = OneHotEncoder()\n",
    "    ohe.fit([[1],[2],[3],[4],[5],[6],[7],[8],[9],[10]])\n",
    "    train_label = ohe.transform(train_label.reshape(140561,1)).toarray()\n",
    "    \n",
    "    return (np.array(data),train_label)\n"
   ]
  },
  {
   "cell_type": "markdown",
   "metadata": {},
   "source": [
    "# 注意187的超参是由先得到数据之后再获得的"
   ]
  },
  {
   "cell_type": "code",
   "execution_count": 8,
   "metadata": {},
   "outputs": [
    {
     "name": "stdout",
     "output_type": "stream",
     "text": [
      "10000\n",
      "20000\n",
      "30000\n",
      "40000\n",
      "50000\n",
      "60000\n",
      "70000\n",
      "80000\n",
      "90000\n",
      "100000\n",
      "110000\n",
      "120000\n",
      "130000\n",
      "140000\n"
     ]
    }
   ],
   "source": [
    "(data,label) = getData()"
   ]
  },
  {
   "cell_type": "code",
   "execution_count": 10,
   "metadata": {},
   "outputs": [
    {
     "data": {
      "text/plain": [
       "(140561, 10)"
      ]
     },
     "execution_count": 10,
     "metadata": {},
     "output_type": "execute_result"
    }
   ],
   "source": [
    "label.shape"
   ]
  },
  {
   "cell_type": "code",
   "execution_count": 12,
   "metadata": {},
   "outputs": [],
   "source": [
    "from sklearn.cross_validation import train_test_split\n",
    "x_train, x_test, y_train, y_test = train_test_split(data, label, test_size=0.05, random_state=42)"
   ]
  },
  {
   "cell_type": "code",
   "execution_count": 13,
   "metadata": {},
   "outputs": [],
   "source": [
    "import keras"
   ]
  },
  {
   "cell_type": "code",
   "execution_count": 26,
   "metadata": {},
   "outputs": [
    {
     "name": "stdout",
     "output_type": "stream",
     "text": [
      "[4. 6. 9. ... 6. 6. 6.]\n",
      "[4. 6. 9. ... 6. 4. 6.]\n"
     ]
    },
    {
     "data": {
      "text/plain": [
       "0.845521691099318"
      ]
     },
     "execution_count": 26,
     "metadata": {},
     "output_type": "execute_result"
    }
   ],
   "source": [
    "model = keras.models.load_model('E:history1_898903234464271.h5', custom_objects={\"f1\": f1})\n",
    "\n",
    "predictPro = model.predict(x_test)\n",
    "print(onehot2index(predictPro))\n",
    "print(onehot2index(y_test))\n",
    "sklearn.metrics.f1_score(onehot2index(y_test),onehot2index(predictPro),average='macro')"
   ]
  },
  {
   "cell_type": "code",
   "execution_count": 17,
   "metadata": {
    "scrolled": true
   },
   "outputs": [
    {
     "name": "stdout",
     "output_type": "stream",
     "text": [
      "Train on 133532 samples, validate on 7029 samples\n",
      "Epoch 1/5\n",
      "133532/133532 [==============================] - 260s 2ms/step - loss: 0.9282 - f1: 0.6794 - val_loss: 0.5624 - val_f1: 0.8156\n",
      "Epoch 2/5\n",
      "133532/133532 [==============================] - 255s 2ms/step - loss: 0.5230 - f1: 0.8293 - val_loss: 0.4693 - val_f1: 0.8481\n",
      "Epoch 3/5\n",
      "133532/133532 [==============================] - 259s 2ms/step - loss: 0.4681 - f1: 0.8476 - val_loss: 0.4374 - val_f1: 0.8571\n",
      "Epoch 4/5\n",
      "133532/133532 [==============================] - 261s 2ms/step - loss: 0.4612 - f1: 0.8483 - val_loss: 0.6914 - val_f1: 0.7876\n",
      "Epoch 5/5\n",
      "133532/133532 [==============================] - 261s 2ms/step - loss: 0.4373 - f1: 0.8565 - val_loss: 0.4531 - val_f1: 0.8588\n"
     ]
    }
   ],
   "source": [
    "from keras.layers import BatchNormalization\n",
    "\n",
    "main_input = Input(shape=(187,), dtype='float64')\n",
    "embedder = Embedding(200 + 1, 256, input_length = 187)\n",
    "embed = embedder(main_input)\n",
    "\n",
    "# cnn1模块，kernel_size = 3\n",
    "conv1_1 = Convolution1D(256, 3, padding='same')(embed)\n",
    "bn1_1 = BatchNormalization()(conv1_1)\n",
    "relu1_1 = Activation('relu')(bn1_1)\n",
    "conv1_2 = Convolution1D(128, 3, padding='same')(relu1_1)\n",
    "bn1_2 = BatchNormalization()(conv1_2)\n",
    "relu1_2 = Activation('relu')(bn1_2)\n",
    "cnn1 = MaxPool1D(pool_size=4)(relu1_2)\n",
    "\n",
    "# cnn2模块，kernel_size = 4\n",
    "conv2_1 = Convolution1D(256, 4, padding='same')(embed)\n",
    "bn2_1 = BatchNormalization()(conv2_1)\n",
    "relu2_1 = Activation('relu')(bn2_1)\n",
    "conv2_2 = Convolution1D(128, 4, padding='same')(relu2_1)\n",
    "bn2_2 = BatchNormalization()(conv2_2)\n",
    "relu2_2 = Activation('relu')(bn2_2)\n",
    "cnn2 = MaxPool1D(pool_size=4)(relu2_2)\n",
    "\n",
    "# cnn3模块，kernel_size = 5\n",
    "conv3_1 = Convolution1D(256, 5, padding='same')(embed)\n",
    "bn3_1 = BatchNormalization()(conv3_1)\n",
    "relu3_1 = Activation('relu')(bn3_1)\n",
    "conv3_2 = Convolution1D(128, 5, padding='same')(relu3_1)\n",
    "bn3_2 = BatchNormalization()(conv3_2)\n",
    "relu3_2 = Activation('relu')(bn3_2)\n",
    "cnn3 = MaxPool1D(pool_size=4)(relu3_2)\n",
    "\n",
    "# 拼接三个模块\n",
    "cnn = concatenate([cnn1,cnn2,cnn3], axis=-1)\n",
    "flat = Flatten()(cnn)\n",
    "\n",
    "# 此处concantenate上强监督\n",
    "\n",
    "drop = Dropout(0.5)(flat)\n",
    "fc = Dense(512)(drop)\n",
    "bn = BatchNormalization()(fc)\n",
    "main_output = Dense(10, activation='softmax')(bn)\n",
    "\n",
    "model = Model(inputs = main_input, outputs = main_output)\n",
    "\n",
    "model.compile(loss='categorical_crossentropy',\n",
    "              optimizer='adam',\n",
    "              metrics=[f1])\n",
    "\n",
    "history = model.fit(x_train, y_train,\n",
    "                    batch_size=64,\n",
    "                    epochs=5,\n",
    "                    validation_data=(x_test, y_test))"
   ]
  },
  {
   "cell_type": "code",
   "execution_count": 24,
   "metadata": {},
   "outputs": [
    {
     "data": {
      "text/plain": [
       "{}"
      ]
     },
     "execution_count": 24,
     "metadata": {},
     "output_type": "execute_result"
    }
   ],
   "source": []
  },
  {
   "cell_type": "code",
   "execution_count": 20,
   "metadata": {},
   "outputs": [],
   "source": [
    "model.save('E:history1.h5')"
   ]
  },
  {
   "cell_type": "code",
   "execution_count": 21,
   "metadata": {},
   "outputs": [
    {
     "name": "stdout",
     "output_type": "stream",
     "text": [
      "Epoch 1/2\n",
      "133532/133532 [==============================] - 259s 2ms/step - loss: 0.4104 - f1: 0.8649\n",
      "Epoch 2/2\n",
      "133532/133532 [==============================] - 255s 2ms/step - loss: 0.3960 - f1: 0.8699\n",
      "Epoch 1/2\n",
      "133532/133532 [==============================] - 255s 2ms/step - loss: 0.3809 - f1: 0.8739\n",
      "Epoch 2/2\n",
      "133532/133532 [==============================] - 257s 2ms/step - loss: 0.3664 - f1: 0.8798\n",
      "Epoch 1/2\n",
      "133532/133532 [==============================] - 254s 2ms/step - loss: 0.3530 - f1: 0.8845\n",
      "Epoch 2/2\n",
      "133532/133532 [==============================] - 251s 2ms/step - loss: 0.3512 - f1: 0.8838\n",
      "Epoch 1/2\n",
      "133532/133532 [==============================] - 254s 2ms/step - loss: 0.3386 - f1: 0.8884\n",
      "Epoch 2/2\n",
      "133532/133532 [==============================] - 258s 2ms/step - loss: 0.3272 - f1: 0.8918\n",
      "Epoch 1/2\n",
      "133532/133532 [==============================] - 260s 2ms/step - loss: 0.3144 - f1: 0.8957\n",
      "Epoch 2/2\n",
      "133532/133532 [==============================] - 259s 2ms/step - loss: 0.3036 - f1: 0.8989\n",
      "Epoch 1/2\n",
      "133532/133532 [==============================] - 259s 2ms/step - loss: 0.3021 - f1: 0.9002\n",
      "Epoch 2/2\n",
      "133532/133532 [==============================] - 259s 2ms/step - loss: 0.2949 - f1: 0.9026\n",
      "Epoch 1/2\n",
      "110976/133532 [=======================>......] - ETA: 43s - loss: 0.2850 - f1: 0.9042"
     ]
    },
    {
     "ename": "KeyboardInterrupt",
     "evalue": "",
     "output_type": "error",
     "traceback": [
      "\u001b[1;31m---------------------------------------------------------------------------\u001b[0m",
      "\u001b[1;31mKeyboardInterrupt\u001b[0m                         Traceback (most recent call last)",
      "\u001b[1;32m<ipython-input-21-a3d09da6249c>\u001b[0m in \u001b[0;36m<module>\u001b[1;34m()\u001b[0m\n\u001b[0;32m      2\u001b[0m     history = model.fit(x_train, y_train,\n\u001b[0;32m      3\u001b[0m                     \u001b[0mbatch_size\u001b[0m\u001b[1;33m=\u001b[0m\u001b[1;36m64\u001b[0m\u001b[1;33m,\u001b[0m\u001b[1;33m\u001b[0m\u001b[0m\n\u001b[1;32m----> 4\u001b[1;33m                     epochs=2)\n\u001b[0m\u001b[0;32m      5\u001b[0m     \u001b[0mname\u001b[0m \u001b[1;33m=\u001b[0m \u001b[1;34m'E:history1_'\u001b[0m \u001b[1;33m+\u001b[0m \u001b[0mstr\u001b[0m\u001b[1;33m(\u001b[0m\u001b[0mhistory\u001b[0m\u001b[1;33m.\u001b[0m\u001b[0mhistory\u001b[0m\u001b[1;33m[\u001b[0m\u001b[1;34m'f1'\u001b[0m\u001b[1;33m]\u001b[0m\u001b[1;33m[\u001b[0m\u001b[1;33m-\u001b[0m\u001b[1;36m1\u001b[0m\u001b[1;33m]\u001b[0m\u001b[1;33m)\u001b[0m\u001b[1;33m[\u001b[0m\u001b[1;36m2\u001b[0m\u001b[1;33m:\u001b[0m\u001b[1;33m]\u001b[0m\u001b[1;33m+\u001b[0m\u001b[1;34m'.h5'\u001b[0m\u001b[1;33m\u001b[0m\u001b[0m\n\u001b[0;32m      6\u001b[0m     \u001b[0mmodel\u001b[0m\u001b[1;33m.\u001b[0m\u001b[0msave\u001b[0m\u001b[1;33m(\u001b[0m\u001b[0mname\u001b[0m\u001b[1;33m)\u001b[0m\u001b[1;33m\u001b[0m\u001b[0m\n",
      "\u001b[1;32m~\\Anaconda3\\lib\\site-packages\\keras\\engine\\training.py\u001b[0m in \u001b[0;36mfit\u001b[1;34m(self, x, y, batch_size, epochs, verbose, callbacks, validation_split, validation_data, shuffle, class_weight, sample_weight, initial_epoch, steps_per_epoch, validation_steps, **kwargs)\u001b[0m\n\u001b[0;32m   1037\u001b[0m                                         \u001b[0minitial_epoch\u001b[0m\u001b[1;33m=\u001b[0m\u001b[0minitial_epoch\u001b[0m\u001b[1;33m,\u001b[0m\u001b[1;33m\u001b[0m\u001b[0m\n\u001b[0;32m   1038\u001b[0m                                         \u001b[0msteps_per_epoch\u001b[0m\u001b[1;33m=\u001b[0m\u001b[0msteps_per_epoch\u001b[0m\u001b[1;33m,\u001b[0m\u001b[1;33m\u001b[0m\u001b[0m\n\u001b[1;32m-> 1039\u001b[1;33m                                         validation_steps=validation_steps)\n\u001b[0m\u001b[0;32m   1040\u001b[0m \u001b[1;33m\u001b[0m\u001b[0m\n\u001b[0;32m   1041\u001b[0m     def evaluate(self, x=None, y=None,\n",
      "\u001b[1;32m~\\Anaconda3\\lib\\site-packages\\keras\\engine\\training_arrays.py\u001b[0m in \u001b[0;36mfit_loop\u001b[1;34m(model, f, ins, out_labels, batch_size, epochs, verbose, callbacks, val_f, val_ins, shuffle, callback_metrics, initial_epoch, steps_per_epoch, validation_steps)\u001b[0m\n\u001b[0;32m    197\u001b[0m                     \u001b[0mins_batch\u001b[0m\u001b[1;33m[\u001b[0m\u001b[0mi\u001b[0m\u001b[1;33m]\u001b[0m \u001b[1;33m=\u001b[0m \u001b[0mins_batch\u001b[0m\u001b[1;33m[\u001b[0m\u001b[0mi\u001b[0m\u001b[1;33m]\u001b[0m\u001b[1;33m.\u001b[0m\u001b[0mtoarray\u001b[0m\u001b[1;33m(\u001b[0m\u001b[1;33m)\u001b[0m\u001b[1;33m\u001b[0m\u001b[0m\n\u001b[0;32m    198\u001b[0m \u001b[1;33m\u001b[0m\u001b[0m\n\u001b[1;32m--> 199\u001b[1;33m                 \u001b[0mouts\u001b[0m \u001b[1;33m=\u001b[0m \u001b[0mf\u001b[0m\u001b[1;33m(\u001b[0m\u001b[0mins_batch\u001b[0m\u001b[1;33m)\u001b[0m\u001b[1;33m\u001b[0m\u001b[0m\n\u001b[0m\u001b[0;32m    200\u001b[0m                 \u001b[0mouts\u001b[0m \u001b[1;33m=\u001b[0m \u001b[0mto_list\u001b[0m\u001b[1;33m(\u001b[0m\u001b[0mouts\u001b[0m\u001b[1;33m)\u001b[0m\u001b[1;33m\u001b[0m\u001b[0m\n\u001b[0;32m    201\u001b[0m                 \u001b[1;32mfor\u001b[0m \u001b[0ml\u001b[0m\u001b[1;33m,\u001b[0m \u001b[0mo\u001b[0m \u001b[1;32min\u001b[0m \u001b[0mzip\u001b[0m\u001b[1;33m(\u001b[0m\u001b[0mout_labels\u001b[0m\u001b[1;33m,\u001b[0m \u001b[0mouts\u001b[0m\u001b[1;33m)\u001b[0m\u001b[1;33m:\u001b[0m\u001b[1;33m\u001b[0m\u001b[0m\n",
      "\u001b[1;32m~\\Anaconda3\\lib\\site-packages\\keras\\backend\\tensorflow_backend.py\u001b[0m in \u001b[0;36m__call__\u001b[1;34m(self, inputs)\u001b[0m\n\u001b[0;32m   2713\u001b[0m                 \u001b[1;32mreturn\u001b[0m \u001b[0mself\u001b[0m\u001b[1;33m.\u001b[0m\u001b[0m_legacy_call\u001b[0m\u001b[1;33m(\u001b[0m\u001b[0minputs\u001b[0m\u001b[1;33m)\u001b[0m\u001b[1;33m\u001b[0m\u001b[0m\n\u001b[0;32m   2714\u001b[0m \u001b[1;33m\u001b[0m\u001b[0m\n\u001b[1;32m-> 2715\u001b[1;33m             \u001b[1;32mreturn\u001b[0m \u001b[0mself\u001b[0m\u001b[1;33m.\u001b[0m\u001b[0m_call\u001b[0m\u001b[1;33m(\u001b[0m\u001b[0minputs\u001b[0m\u001b[1;33m)\u001b[0m\u001b[1;33m\u001b[0m\u001b[0m\n\u001b[0m\u001b[0;32m   2716\u001b[0m         \u001b[1;32melse\u001b[0m\u001b[1;33m:\u001b[0m\u001b[1;33m\u001b[0m\u001b[0m\n\u001b[0;32m   2717\u001b[0m             \u001b[1;32mif\u001b[0m \u001b[0mpy_any\u001b[0m\u001b[1;33m(\u001b[0m\u001b[0mis_tensor\u001b[0m\u001b[1;33m(\u001b[0m\u001b[0mx\u001b[0m\u001b[1;33m)\u001b[0m \u001b[1;32mfor\u001b[0m \u001b[0mx\u001b[0m \u001b[1;32min\u001b[0m \u001b[0minputs\u001b[0m\u001b[1;33m)\u001b[0m\u001b[1;33m:\u001b[0m\u001b[1;33m\u001b[0m\u001b[0m\n",
      "\u001b[1;32m~\\Anaconda3\\lib\\site-packages\\keras\\backend\\tensorflow_backend.py\u001b[0m in \u001b[0;36m_call\u001b[1;34m(self, inputs)\u001b[0m\n\u001b[0;32m   2673\u001b[0m             \u001b[0mfetched\u001b[0m \u001b[1;33m=\u001b[0m \u001b[0mself\u001b[0m\u001b[1;33m.\u001b[0m\u001b[0m_callable_fn\u001b[0m\u001b[1;33m(\u001b[0m\u001b[1;33m*\u001b[0m\u001b[0marray_vals\u001b[0m\u001b[1;33m,\u001b[0m \u001b[0mrun_metadata\u001b[0m\u001b[1;33m=\u001b[0m\u001b[0mself\u001b[0m\u001b[1;33m.\u001b[0m\u001b[0mrun_metadata\u001b[0m\u001b[1;33m)\u001b[0m\u001b[1;33m\u001b[0m\u001b[0m\n\u001b[0;32m   2674\u001b[0m         \u001b[1;32melse\u001b[0m\u001b[1;33m:\u001b[0m\u001b[1;33m\u001b[0m\u001b[0m\n\u001b[1;32m-> 2675\u001b[1;33m             \u001b[0mfetched\u001b[0m \u001b[1;33m=\u001b[0m \u001b[0mself\u001b[0m\u001b[1;33m.\u001b[0m\u001b[0m_callable_fn\u001b[0m\u001b[1;33m(\u001b[0m\u001b[1;33m*\u001b[0m\u001b[0marray_vals\u001b[0m\u001b[1;33m)\u001b[0m\u001b[1;33m\u001b[0m\u001b[0m\n\u001b[0m\u001b[0;32m   2676\u001b[0m         \u001b[1;32mreturn\u001b[0m \u001b[0mfetched\u001b[0m\u001b[1;33m[\u001b[0m\u001b[1;33m:\u001b[0m\u001b[0mlen\u001b[0m\u001b[1;33m(\u001b[0m\u001b[0mself\u001b[0m\u001b[1;33m.\u001b[0m\u001b[0moutputs\u001b[0m\u001b[1;33m)\u001b[0m\u001b[1;33m]\u001b[0m\u001b[1;33m\u001b[0m\u001b[0m\n\u001b[0;32m   2677\u001b[0m \u001b[1;33m\u001b[0m\u001b[0m\n",
      "\u001b[1;32m~\\Anaconda3\\lib\\site-packages\\tensorflow\\python\\client\\session.py\u001b[0m in \u001b[0;36m__call__\u001b[1;34m(self, *args, **kwargs)\u001b[0m\n\u001b[0;32m   1397\u001b[0m           ret = tf_session.TF_SessionRunCallable(\n\u001b[0;32m   1398\u001b[0m               \u001b[0mself\u001b[0m\u001b[1;33m.\u001b[0m\u001b[0m_session\u001b[0m\u001b[1;33m.\u001b[0m\u001b[0m_session\u001b[0m\u001b[1;33m,\u001b[0m \u001b[0mself\u001b[0m\u001b[1;33m.\u001b[0m\u001b[0m_handle\u001b[0m\u001b[1;33m,\u001b[0m \u001b[0margs\u001b[0m\u001b[1;33m,\u001b[0m \u001b[0mstatus\u001b[0m\u001b[1;33m,\u001b[0m\u001b[1;33m\u001b[0m\u001b[0m\n\u001b[1;32m-> 1399\u001b[1;33m               run_metadata_ptr)\n\u001b[0m\u001b[0;32m   1400\u001b[0m         \u001b[1;32mif\u001b[0m \u001b[0mrun_metadata\u001b[0m\u001b[1;33m:\u001b[0m\u001b[1;33m\u001b[0m\u001b[0m\n\u001b[0;32m   1401\u001b[0m           \u001b[0mproto_data\u001b[0m \u001b[1;33m=\u001b[0m \u001b[0mtf_session\u001b[0m\u001b[1;33m.\u001b[0m\u001b[0mTF_GetBuffer\u001b[0m\u001b[1;33m(\u001b[0m\u001b[0mrun_metadata_ptr\u001b[0m\u001b[1;33m)\u001b[0m\u001b[1;33m\u001b[0m\u001b[0m\n",
      "\u001b[1;31mKeyboardInterrupt\u001b[0m: "
     ]
    }
   ],
   "source": [
    "while True:\n",
    "    history = model.fit(x_train, y_train,\n",
    "                    batch_size=64,\n",
    "                    epochs=2)\n",
    "    name = 'E:history1_' + str(history.history['f1'][-1])[2:]+'.h5'\n",
    "    model.save(name)"
   ]
  },
  {
   "cell_type": "code",
   "execution_count": 78,
   "metadata": {},
   "outputs": [
    {
     "name": "stdout",
     "output_type": "stream",
     "text": [
      "[4. 4. 4. ... 0. 0. 0.]\n",
      "[4. 4. 4. ... 0. 0. 0.]\n"
     ]
    },
    {
     "data": {
      "text/plain": [
       "0.8201552493371331"
      ]
     },
     "execution_count": 78,
     "metadata": {},
     "output_type": "execute_result"
    }
   ],
   "source": [
    "predict_label = model.predict(valid_data)\n",
    "print(onehot2index(predict_label))\n",
    "print(onehot2index(valid_label))\n",
    "sklearn.metrics.f1_score(onehot2index(valid_label),onehot2index(predict_label),average='macro')"
   ]
  },
  {
   "cell_type": "code",
   "execution_count": 29,
   "metadata": {},
   "outputs": [],
   "source": [
    "def getValData():\n",
    "    label = []\n",
    "    data = []\n",
    "    with open('valid_a_c.txt') as f:\n",
    "        isFirst = True\n",
    "        count = 1\n",
    "        while True:\n",
    "            line = f.readline()\n",
    "\n",
    "            if isFirst:\n",
    "                isFirst = False\n",
    "                continue\n",
    "\n",
    "            if not line:\n",
    "                break\n",
    "\n",
    "            l = line.split('\\t')\n",
    "\n",
    "            label.append(int(l[5]))\n",
    "            title = l[2].split(',')#e.g. ['w12','w23']\n",
    "            content = l[4].split(',')\n",
    "            new_result = np.zeros(187)\n",
    "            \n",
    "            #format to delete 'w'\n",
    "            for i in range(len(title)):\n",
    "                new_result[i] = title[i][1:]\n",
    "\n",
    "            for i in range(len(title),len(content)+len(title)):\n",
    "                new_result[i] = content[i-len(title)][1:]\n",
    "            \n",
    "            \n",
    "            \n",
    "            data.append(new_result)\n",
    "            if count%10000 == 0:\n",
    "                print(count)\n",
    "            count+=1\n",
    "    \n",
    "    #change lable to one hot\n",
    "    label = np.array(label)\n",
    "    ohe = OneHotEncoder()\n",
    "    ohe.fit([[1],[2],[3],[4],[5],[6],[7],[8],[9],[10]])\n",
    "    label = ohe.transform(label.reshape(label.size,1)).toarray()\n",
    "    \n",
    "    return (np.array(data),label)\n",
    "\n",
    "(valid_data, valid_label) = getValData()"
   ]
  },
  {
   "cell_type": "code",
   "execution_count": 27,
   "metadata": {},
   "outputs": [],
   "source": [
    "def getOutPutAndSave(model):\n",
    "    data = []\n",
    "    with open('test_a.txt') as f:\n",
    "        isFirst = True\n",
    "        while True:\n",
    "            line = f.readline()\n",
    "\n",
    "            if isFirst:\n",
    "                isFirst = False\n",
    "                continue\n",
    "\n",
    "            if not line:\n",
    "                break\n",
    "\n",
    "            l = line.split('\\t')\n",
    "\n",
    "            title = l[2].split(',')#e.g. ['w12','w23']\n",
    "            content = l[4].split(',')\n",
    "            new_result = np.zeros(187)\n",
    "            \n",
    "            #format to delete 'w'\n",
    "            for i in range(len(title)):\n",
    "                new_result[i] = title[i][1:]\n",
    "\n",
    "            for i in range(len(title),len(content)+len(title)):\n",
    "                new_result[i] = content[i-len(title)][1:]\n",
    "            \n",
    "            data.append(new_result)\n",
    "        \n",
    "    data = np.array(data)\n",
    "    \n",
    "    result = model.predict(data)\n",
    "    \n",
    "    target = open('First.txt','w')\n",
    "    \n",
    "    for i in result:\n",
    "        target.write(str(i.argmax()+1)+'\\n')#输出\n",
    "        \n",
    "    target.close()\n",
    "\n",
    "getOutPutAndSave(model)"
   ]
  },
  {
   "cell_type": "code",
   "execution_count": null,
   "metadata": {},
   "outputs": [],
   "source": []
  }
 ],
 "metadata": {
  "kernelspec": {
   "display_name": "Python 3",
   "language": "python",
   "name": "python3"
  },
  "language_info": {
   "codemirror_mode": {
    "name": "ipython",
    "version": 3
   },
   "file_extension": ".py",
   "mimetype": "text/x-python",
   "name": "python",
   "nbconvert_exporter": "python",
   "pygments_lexer": "ipython3",
   "version": "3.6.5"
  }
 },
 "nbformat": 4,
 "nbformat_minor": 2
}
