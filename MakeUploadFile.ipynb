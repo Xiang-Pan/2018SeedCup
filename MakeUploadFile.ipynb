{
 "cells": [
  {
   "cell_type": "code",
   "execution_count": 1,
   "metadata": {},
   "outputs": [],
   "source": [
    "def getDict():\n",
    "    a_label = []\n",
    "    b_label = []\n",
    "    c_label = []\n",
    "\n",
    "    with open('train_a.txt') as f:\n",
    "        isFirst = True\n",
    "\n",
    "        while True:\n",
    "            line = f.readline()\n",
    "\n",
    "            if isFirst:\n",
    "                isFirst = False\n",
    "                continue            \n",
    "\n",
    "            if not line:\n",
    "                break\n",
    "\n",
    "            l = line.split('\\t')\n",
    "\n",
    "            a_label.append(l[5])\n",
    "\n",
    "            b_label.append(l[6])\n",
    "\n",
    "            c_label.append(l[7].replace('\\n',''))\n",
    "\n",
    "\n",
    "    a_label = list(set(a_label))\n",
    "    b_label = list(set(b_label))\n",
    "    c_label = list(set(c_label))\n",
    "\n",
    "    a_label.sort()\n",
    "    b_label.sort()\n",
    "    c_label.sort()\n",
    "    \n",
    "    a_dict = {}\n",
    "    b_dict = {}\n",
    "    c_dict = {}\n",
    "    count = 1\n",
    "\n",
    "    for i in a_label:\n",
    "        a_dict[i] = str(count)\n",
    "        count+=1\n",
    "\n",
    "    for i in b_label:\n",
    "        b_dict[i] = str(count)\n",
    "        count+=1\n",
    "\n",
    "    for i in c_label:\n",
    "        c_dict[i] = str(count)\n",
    "        count+=1\n",
    "\n",
    "\n",
    "    print(a_dict)\n",
    "    print(b_dict)\n",
    "    print(c_dict)\n",
    "    return (a_dict,b_dict,c_dict)\n",
    "    "
   ]
  },
  {
   "cell_type": "code",
   "execution_count": 2,
   "metadata": {},
   "outputs": [
    {
     "name": "stdout",
     "output_type": "stream",
     "text": [
      "{'1472': '1', '1552': '2', '1648': '3', '2319': '4', '3': '5', '328': '6', '5': '7', '571': '8', '591': '9', '7': '10'}\n",
      "{'1132': '11', '1325': '12', '1327': '13', '1473': '14', '1476': '15', '154': '16', '1553': '17', '157': '18', '1603': '19', '1650': '20', '1654': '21', '1660': '22', '1762': '23', '1763': '24', '1764': '25', '1765': '26', '1766': '27', '1945': '28', '196': '29', '197': '30', '2000': '31', '2009': '32', '2156': '33', '2166': '34', '2172': '35', '2193': '36', '22': '37', '2299': '38', '23': '39', '2300': '40', '2341': '41', '2343': '42', '2383': '43', '24': '44', '26': '45', '266': '46', '268': '47', '30': '48', '34': '49', '36': '50', '361': '51', '37': '52', '38': '53', '498': '54', '499': '55', '500': '56', '504': '57', '526': '58', '530': '59', '538': '60', '540': '61', '541': '62', '576': '63', '590': '64', '593': '65', '594': '66', '600': '67', '602': '68', '603': '69', '604': '70', '605': '71', '606': '72', '607': '73', '760': '74'}\n",
      "{'101': '75', '102': '76', '106': '77', '107': '78', '1132': '79', '1365': '80', '1367': '81', '1374': '82', '1377': '83', '1387': '84', '1422': '85', '1477': '86', '1479': '87', '1480': '88', '149': '89', '151': '90', '152': '91', '154': '92', '1554': '93', '156': '94', '157': '95', '158': '96', '1589': '97', '159': '98', '1590': '99', '160': '100', '1606': '101', '161': '102', '164': '103', '165': '104', '166': '105', '167': '106', '171': '107', '173': '108', '174': '109', '196': '110', '197': '111', '1982': '112', '2015': '113', '2052': '114', '214': '115', '215': '116', '2158': '117', '216': '118', '2166': '119', '2173': '120', '2179': '121', '2180': '122', '2184': '123', '2299': '124', '2300': '125', '255': '126', '258': '127', '266': '128', '268': '129', '269': '130', '273': '131', '284': '132', '292': '133', '300': '134', '306': '135', '370': '136', '384': '137', '385': '138', '386': '139', '387': '140', '415': '141', '422': '142', '423': '143', '424': '144', '425': '145', '426': '146', '427': '147', '429': '148', '431': '149', '432': '150', '441': '151', '498': '152', '499': '153', '500': '154', '504': '155', '505': '156', '506': '157', '526': '158', '530': '159', '538': '160', '540': '161', '541': '162', '543': '163', '553': '164', '572': '165', '573': '166', '574': '167', '576': '168', '579': '169', '610': '170', '611': '171', '613': '172', '615': '173', '616': '174', '617': '175', '619': '176', '620': '177', '635': '178', '643': '179', '664': '180', '671': '181', '680': '182', '682': '183', '704': '184', '707': '185', '712': '186', '713': '187', '723': '188', '736': '189', '737': '190', '835': '191', '89': '192', '92': '193', '93': '194', '932': '195', '94': '196', '95': '197', '96': '198', '97': '199'}\n"
     ]
    }
   ],
   "source": [
    "(a_dict,b_dict,c_dict) = getDict()"
   ]
  },
  {
   "cell_type": "code",
   "execution_count": 7,
   "metadata": {},
   "outputs": [],
   "source": [
    "def getId():\n",
    "    target = open('id.txt','w')\n",
    "    with open('test_a.txt') as f:\n",
    "        isFirst = True\n",
    "        while True:\n",
    "            line = f.readline()\n",
    "            if isFirst:\n",
    "                isFirst = False\n",
    "                continue\n",
    "            if not line:\n",
    "                break\n",
    "            \n",
    "            target.write(line.split('\\t')[0]+'\\n')\n",
    "            \n",
    "    target.close()\n",
    "\n",
    "getId()"
   ]
  },
  {
   "cell_type": "code",
   "execution_count": 21,
   "metadata": {},
   "outputs": [
    {
     "data": {
      "text/plain": [
       "<function TextIOWrapper.close()>"
      ]
     },
     "execution_count": 21,
     "metadata": {},
     "output_type": "execute_result"
    }
   ],
   "source": [
    "def findKeyByValue(dic,value):\n",
    "    for k,v in dic.items():\n",
    "        if value == v:\n",
    "            return k\n",
    "    print(len(dic))\n",
    "    print(value)\n",
    "    return None\n",
    "\n",
    "idFile = open('id.txt')\n",
    "firstFile = open('First.txt')\n",
    "secondFile = open('Second.txt')\n",
    "thirdFile = open('Third.txt')\n",
    "\n",
    "target = open('result.txt','w')\n",
    "while True:\n",
    "    idLine = idFile.readline()\n",
    "    if not idLine:\n",
    "        break\n",
    "    firstLine = firstFile.readline()\n",
    "    secondLine = secondFile.readline()\n",
    "    thirdLine = thirdFile.readline()\n",
    "    \n",
    "    buffer = idLine.split('\\t')[0].replace('\\n','') + '\\t' + findKeyByValue(a_dict, firstLine[:-1]) + '\\t' + findKeyByValue(b_dict, str(int(secondLine[:-1])+10)) + '\\t' + findKeyByValue(c_dict, str(int(thirdLine[:-1])+64+10)) + '\\n'\n",
    "    target.write(buffer)\n",
    "    \n",
    "idFile.close()\n",
    "firstFile.close()\n",
    "secondFile.close()\n",
    "thirdFile.close()\n",
    "target.close"
   ]
  },
  {
   "cell_type": "code",
   "execution_count": null,
   "metadata": {},
   "outputs": [],
   "source": []
  }
 ],
 "metadata": {
  "kernelspec": {
   "display_name": "Python 3",
   "language": "python",
   "name": "python3"
  },
  "language_info": {
   "codemirror_mode": {
    "name": "ipython",
    "version": 3
   },
   "file_extension": ".py",
   "mimetype": "text/x-python",
   "name": "python",
   "nbconvert_exporter": "python",
   "pygments_lexer": "ipython3",
   "version": "3.6.5"
  }
 },
 "nbformat": 4,
 "nbformat_minor": 2
}
